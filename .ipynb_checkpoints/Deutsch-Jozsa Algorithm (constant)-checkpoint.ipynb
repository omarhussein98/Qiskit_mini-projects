{
 "cells": [
  {
   "cell_type": "code",
   "execution_count": 1,
   "metadata": {},
   "outputs": [],
   "source": [
    "from qiskit import *"
   ]
  },
  {
   "cell_type": "code",
   "execution_count": 3,
   "metadata": {},
   "outputs": [
    {
     "data": {
      "text/plain": [
       "{'00': 1024}"
      ]
     },
     "execution_count": 3,
     "metadata": {},
     "output_type": "execute_result"
    }
   ],
   "source": [
    "circuit=QuantumCircuit(3,2)\n",
    "circuit.x(2)\n",
    "circuit.h([0,1,2])\n",
    "circuit.barrier()\n",
    "\n",
    "#the constant function\n",
    "circuit.x([0,1])\n",
    "circuit.barrier()\n",
    "\n",
    "circuit.h([0,1])\n",
    "circuit.measure([0,1],[0,1])\n",
    "\n",
    "simulator=Aer.get_backend('qasm_simulator')\n",
    "result=execute(circuit,simulator).result()\n",
    "measurement=result.get_counts()\n",
    "\n",
    "if '00' in measurement:\n",
    "    if measurement['00']==1024:\n",
    "        print('constant')\n",
    "    else:\n",
    "        print('balanced')\n",
    "else:\n",
    "    print('balanced')"
   ]
  },
  {
   "cell_type": "code",
   "execution_count": 6,
   "metadata": {},
   "outputs": [
    {
     "data": {
      "image/png": "[encoded data removed]",
      "text/plain": [
       "<Figure size 638.12x264.88 with 1 Axes>"
      ]
     },
     "execution_count": 6,
     "metadata": {},
     "output_type": "execute_result"
    }
   ],
   "source": [
    "circuit.draw(output='mpl')\n"
   ]
  },
  {
   "cell_type": "code",
   "execution_count": null,
   "metadata": {},
   "outputs": [],
   "source": []
  }
 ],
 "metadata": {
  "kernelspec": {
   "display_name": "Python 3",
   "language": "python",
   "name": "python3"
  },
  "language_info": {
   "codemirror_mode": {
    "name": "ipython",
    "version": 3
   },
   "file_extension": ".py",
   "mimetype": "text/x-python",
   "name": "python",
   "nbconvert_exporter": "python",
   "pygments_lexer": "ipython3",
   "version": "3.7.3"
  }
 },
 "nbformat": 4,
 "nbformat_minor": 2
}
