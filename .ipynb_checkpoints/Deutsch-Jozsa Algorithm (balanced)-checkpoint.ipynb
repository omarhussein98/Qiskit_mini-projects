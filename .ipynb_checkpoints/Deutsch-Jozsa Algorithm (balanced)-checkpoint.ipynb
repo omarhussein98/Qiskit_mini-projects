{
 "cells": [
  {
   "cell_type": "code",
   "execution_count": 1,
   "metadata": {},
   "outputs": [],
   "source": [
    "from qiskit import *"
   ]
  },
  {
   "cell_type": "code",
   "execution_count": 27,
   "metadata": {},
   "outputs": [
    {
     "name": "stdout",
     "output_type": "stream",
     "text": [
      "balanced\n"
     ]
    }
   ],
   "source": [
    "circuit=QuantumCircuit(3,2)\n",
    "circuit.x(2)\n",
    "circuit.h([0,1,2])\n",
    "circuit.barrier()\n",
    "\n",
    "#the balanced function\n",
    "circuit.cx(0,2)\n",
    "circuit.cx(1,2)\n",
    "circuit.barrier()\n",
    "\n",
    "circuit.h([0,1])\n",
    "circuit.measure([0,1],[0,1])\n",
    "\n",
    "simulator=Aer.get_backend('qasm_simulator')\n",
    "result=execute(circuit,simulator).result()\n",
    "measurement=result.get_counts()\n",
    "\n",
    "if '00' in measurement:\n",
    "    if measurement['00']==1024:\n",
    "        print('constant')\n",
    "    else:\n",
    "        print('balanced')\n",
    "else:\n",
    "    print('balanced')\n",
    "    "
   ]
  },
  {
   "cell_type": "code",
   "execution_count": 26,
   "metadata": {},
   "outputs": [
    {
     "data": {
      "image/png": "[encoded data removed]",
      "text/plain": [
       "<Figure size 698.32x264.88 with 1 Axes>"
      ]
     },
     "execution_count": 26,
     "metadata": {},
     "output_type": "execute_result"
    }
   ],
   "source": [
    "circuit.draw(output='mpl')"
   ]
  },
  {
   "cell_type": "code",
   "execution_count": 2,
   "metadata": {},
   "outputs": [
    {
     "data": {
      "text/plain": [
       "'C:\\\\Users\\\\DELL'"
      ]
     },
     "execution_count": 2,
     "metadata": {},
     "output_type": "execute_result"
    }
   ],
   "source": []
  },
  {
   "cell_type": "code",
   "execution_count": null,
   "metadata": {},
   "outputs": [],
   "source": []
  }
 ],
 "metadata": {
  "kernelspec": {
   "display_name": "Python 3",
   "language": "python",
   "name": "python3"
  },
  "language_info": {
   "codemirror_mode": {
    "name": "ipython",
    "version": 3
   },
   "file_extension": ".py",
   "mimetype": "text/x-python",
   "name": "python",
   "nbconvert_exporter": "python",
   "pygments_lexer": "ipython3",
   "version": "3.7.3"
  }
 },
 "nbformat": 4,
 "nbformat_minor": 2
}
