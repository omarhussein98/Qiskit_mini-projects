{
 "cells": [
  {
   "cell_type": "code",
   "execution_count": 1,
   "metadata": {},
   "outputs": [],
   "source": [
    "from qiskit import *"
   ]
  },
  {
   "cell_type": "code",
   "execution_count": 2,
   "metadata": {},
   "outputs": [],
   "source": [
    "from math import *\n",
    "%matplotlib inline\n",
    "from qiskit.tools.visualization import plot_histogram"
   ]
  },
  {
   "cell_type": "code",
   "execution_count": 5,
   "metadata": {},
   "outputs": [
    {
     "data": {
      "image/png": "[encoded data removed]",
      "text/plain": [
       "<Figure size 504x360 with 1 Axes>"
      ]
     },
     "execution_count": 5,
     "metadata": {},
     "output_type": "execute_result"
    }
   ],
   "source": [
    "n=4\n",
    "circuit=QuantumCircuit(2*n,n)\n",
    "count=0\n",
    "#use the x-gates to choose the two binary numbers to be added(it works it just somehow puzzling in the order of its binary )\n",
    "#the circuit is invented by Draper\n",
    "circuit.x([3,6,4,5]) #(0111+0001)\n",
    "while(count<n):\n",
    "    circuit.h(count)\n",
    "    h=n+1-count\n",
    "    k=count+1\n",
    "    count1=2\n",
    "    while(count1<h):\n",
    "        circuit.crz(2*pi/(2**(count1)),k,count)\n",
    "        count1=count1+1\n",
    "        k=k+1\n",
    "    count=count+1\n",
    "    circuit.barrier()\n",
    "circuit.barrier()\n",
    "count=0\n",
    "while(count<n):\n",
    "    circuit.crz(pi,7-count,count)\n",
    "    h=n+1-count\n",
    "    k=n+2-count\n",
    "    count1=2\n",
    "    while(count1<h):\n",
    "        circuit.crz(2*pi/(2**(count1)),k,count)\n",
    "        count1=count1+1\n",
    "        k=k-1\n",
    "    count=count+1\n",
    "    circuit.barrier()\n",
    "circuit.barrier()\n",
    "count=n-1\n",
    "while(count>=0):\n",
    "    h=n+1-count\n",
    "    k=3\n",
    "    count1=h\n",
    "    while(count1>2):\n",
    "        circuit.crz(-2*pi/(2**(count1-1)),k,count)\n",
    "        count1=count1-1\n",
    "        k=k-1\n",
    "    circuit.h(count)\n",
    "    count=count-1\n",
    "    circuit.barrier()\n",
    "circuit.barrier()\n",
    "circuit.measure([0,1,2,3],[0,1,2,3])\n",
    "simulator=Aer.get_backend('qasm_simulator')\n",
    "result=execute(circuit,simulator).result()\n",
    "plot_histogram(result.get_counts())"
   ]
  },
  {
   "cell_type": "code",
   "execution_count": null,
   "metadata": {},
   "outputs": [],
   "source": []
  }
 ],
 "metadata": {
  "kernelspec": {
   "display_name": "Python 3",
   "language": "python",
   "name": "python3"
  },
  "language_info": {
   "codemirror_mode": {
    "name": "ipython",
    "version": 3
   },
   "file_extension": ".py",
   "mimetype": "text/x-python",
   "name": "python",
   "nbconvert_exporter": "python",
   "pygments_lexer": "ipython3",
   "version": "3.7.3"
  }
 },
 "nbformat": 4,
 "nbformat_minor": 2
}
